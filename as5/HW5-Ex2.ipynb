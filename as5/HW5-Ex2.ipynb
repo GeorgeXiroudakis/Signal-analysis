{
 "cells": [
  {
   "cell_type": "markdown",
   "metadata": {},
   "source": [
    "<div align=\"center\">\n",
    "    \n",
    "# ΠΑΝΕΠΙΣΤΗΜΙΟ ΚΡΗΤΗΣ\n",
    "# Τμήμα Επιστήμης Υπολογιστών\n",
    "\n",
    "## HY-215: Εφαρμοσμένα Μαθηματικά για Μηχανικούς\n",
    "## Εαρινό Εξάμηνο 2022-2023\n",
    "### Διδάσκοντες: Γ. Στυλιανού, Γ. Καφεντζής\n",
    "    \n",
    "## Ανάθεση: 6-5-2023\n",
    "## Παράδοση (ηλεκτρονικά, όπως αναφέρεται στην ιστοσελίδα του μαθήματος): \n",
    "## Τρίτη, 19-5-2023, 23:59:59\n",
    "<h1><center>Άσκηση 2 [Προαιρετική]</center></h1>"
   ]
  },
  {
   "cell_type": "code",
   "execution_count": null,
   "metadata": {
    "pycharm": {
     "is_executing": true
    }
   },
   "outputs": [],
   "source": [
    "from scipy.signal import butter, freqz, lfilter\n",
    "import matplotlib.pyplot as plt\n",
    "import scipy.io.wavfile as wav\n",
    "import numpy as np\n",
    "import IPython"
   ]
  },
  {
   "cell_type": "markdown",
   "metadata": {},
   "source": [
    "# Άσκηση Python 1:\n",
    "---\n",
    "---\n",
    "\n",
    "Εργάζεστε σε μια από τις πρώτες εταιρίες κινητής τηλεφωνίας, και το πόστο σας είναι $\\textrm{μηχανικός σχεδίασης ϕίλτρων}$.\n",
    "\n",
    "Ο προϊστάμενός σας συγκαλεί σύσκεψη στην οποία αποφασίζεται ότι εσείς πρέπει να αναπτύξετε και να σχεδιάσετε ένα\n",
    "σύστημα με απόκριση συχνότητας $H(f)$ για εφαρμογές επικοινωνίας ϕωνής, το οποίο θα αποκόπτει τις συχνότητες\n",
    "μεγαλύτερες από κάποιο δοθέν $f_c$ (η οποία λέγεται, όπως ξέρετε, συχνότητα αποκοπής - cut-off frequency) ενώ ϑα κρατά όσο γίνεται ανέπαφες τις συχνότητες μικρότερες από $f_c$. Τέτοια συστήματα γνωρίζετε ότι ονομάζονται $\\textbf{ϕίλτρα επιλογής συχνοτήτων}$, και για αυτήν την άσκηση θα αποκαλούμε απλά ως ϕίλτρο το σύστημά μας.\n",
    "\n",
    "Ο προϊστάμενός σας, που δε γνωρίζει θεωρία σημάτων και συστημάτων, σας παραδίδει την απόκριση συχνότητας\n",
    "$H(f)$ που θέλει να ϕτιάξετε, στο παρακάτω σχήμα, και σας αναφέρει ότι το ζητούμενο $f_c$ ισούται με $f_c = 2000$ Hz, αφού\n",
    "το ϕίλτρο θα ενσωματωθεί σε στρατιωτικά ασύρματα τηλεφωνικά συστήματα, όπου το εύρος ζώνης επικοινωνίας - και\n",
    "το κόστος λειτουργίας - είναι περιορισμένο, καθώς σημασία έχει να είναι απλά καταληπτή η επικοινωνία και όχι η\n",
    "ποιότητά της."
   ]
  },
  {
   "attachments": {
    "idealLP-2.png": {
     "image/png": "[encoded data removed]"
    }
   },
   "cell_type": "markdown",
   "metadata": {},
   "source": [
    "![idealLP-2.png](attachment:idealLP-2.png)"
   ]
  },
  {
   "cell_type": "markdown",
   "metadata": {},
   "source": [
    "**(α')** Απαντήστε στο παρακάτω κελί (κάνοντας double click πάνω του) γιατί η πραγματοποίηση του παραπάνω φίλτρου δεν είναι δυνατή!"
   ]
  },
  {
   "cell_type": "markdown",
   "metadata": {},
   "source": [
    "### Απάντηση:\n",
    "\n",
    "(γράψτε εδώ)\n"
   ]
  },
  {
   "attachments": {
    "butter.png": {
     "image/png": "[encoded data removed]"
    }
   },
   "cell_type": "markdown",
   "metadata": {},
   "source": [
    "**(β')** Αφού τον πείσατε για την ορθότητα του παραπάνω ερωτήματος, σας αναθέτει να υλοποιήσετε ένα φίλτρο που να πλησιάζει όσο γίνεται αυτό που σας ζήτησε αρχικά, και να είναι υλοποιήσιμο. \n",
    "\n",
    "Στην προσπάθειά σας αυτή, ένας μαθηματικός φίλος σας αναφέρει ότι έχει υπόψη του μια συνάρτηση η οποία να πλησιάζει το ζητούμενο φίλτρο σας, και την οποία σχεδιάζει πρόχειρα στο χαρτί, όπως στο παρακάτω σχήμα. Η συνάρτηση ονομάζεται\n",
    "\n",
    "### $$\\textit{συνάρτηση Butterworth}$$\n",
    "\n",
    "![butter.png](attachment:butter.png)"
   ]
  },
  {
   "cell_type": "markdown",
   "metadata": {},
   "source": [
    "Μη έχοντας καλύτερη εναλλακτική, του ζητάτε να σας δώσει τη μαθηματική περιγραφή της συνάρτησης. Σας δίνει μια περιγραφή στο χώρο της συχνότητας που βρήκε σε κάποιο μαθηματικό εγχειρίδιο, ως\n",
    "\n",
    "$$|H(f)|^2 = \\displaystyle \\frac{1}{1 + \\big(\\frac{j2\\pi f}{j2\\pi f_c}\\big)^{2N}}$$\n",
    "\n",
    "με $N$ την τάξη της συνάρτησης, όπως σας ανέφερε. \n",
    "\n",
    "Προσέξτε ότι σας δίνει μια περίγραφή του **μέτρου** του φίλτρου **στο τετράγωνο** (δεν ήταν και ιδιαίτερα βοηθητικός 😄)...\n",
    "\n",
    "Μετατρέψτε τη συνάρτηση αυτή στο χώρο του μετασχ. Laplace (βρείτε δηλ. το $|H(s)|^2$) θέτοντας $s = j2\\pi f$. **Κρατήστε την απάντησή σας σε ένα χαρτί.**"
   ]
  },
  {
   "cell_type": "markdown",
   "metadata": {},
   "source": [
    "**(γ')** Θέλετε να μελετήσετε τη συμπεριφορά του φίλτρου - όπως το ονομάζετε πλέον - Butterworth, για να το κατανοήσετε καλύτερα. \n",
    "\n",
    "Βρείτε τους πόλους του $|H(s)|^2$ στο $s$-επίπεδο. **Κρατήστε την απάντησή σας σε ένα χαρτί.**\n",
    "\n",
    "$\\underline{Βοήθεια:}$\n",
    "Πολλαπλασιάστε την απάντησή σας στο προηγ. ερώτημα σε αριθμητή και παρονομαστή με το $(j2\\pi f_c)^{2N}$ και βρείτε τις ρίζες του παρονομαστή, χρησιμοποιώντας τη μεθοδολογία του De Moivre από την πρώτη κιόλας διάλεξη. "
   ]
  },
  {
   "cell_type": "markdown",
   "metadata": {},
   "source": [
    "**(δ')** Γνωρίζετε από τη θεωρία σας ότι επειδή το φίλτρο σας είναι πραγματικό σήμα στο χρόνο (δηλ. $h(t) \\in \\Re$), θα ισχύουν οι γνωστές συμμετρίες στο χώρο του Fourier, δηλ.\n",
    "\n",
    "$$|H(f)|^2 = H(f)H^*(f) = H(f)H(-f) = H(s)H(-s)\\Big|_{s=j2\\pi f}$$\n",
    "\n",
    "Άρα οι πόλοι που βρήκατε νωρίτερα ανήκουν στο σύστημα $|H(s)|^2 = H(s)H(-s)$. Καταλαβαίνετε ότι κάποιοι πόλοι από αυτούς θα ανήκουν στο $H(s)$ και οι υπόλοιποι στο $H(-s)$. \n",
    "\n",
    "Έχοντας βρει τους πόλους από το προηγούμενο ερώτημα, σχεδιάστε το διάγραμμα πόλων-μηδενικών (χωρίς να ασχοληθείτε με τα μηδενικά) του $|H(s)|^2$ κι επιλέξτε από τους πόλους που σχεδιάσατε ένα υποσύνολο πόλων ώστε το σύστημα που θα προκύψει από αυτούς να είναι $\\textbf{ευσταθές και αιτιατό}$. Προσέξτε ότι αν $s_p$ είναι ένας πόλος του $H(s)$, τότε ο $-s_p$ είναι $\\textbf{αναγκαστικά}$ πόλος του $H(-s)$. \n",
    "\n",
    "$\\textbf{Ποιούς πόλους επιλέξατε για το $H(s)$ και γιατί? Απαντήσετε παρακάτω:}$ \n",
    "\n",
    "**(μην περιγράψετε αριθμητικά τους πόλους - περιγράψτε τους ως προς τη θέση τους στο μιγαδικό επίπεδο)**"
   ]
  },
  {
   "cell_type": "markdown",
   "metadata": {},
   "source": [
    "### Απάντηση:\n",
    "\n",
    "(γράψτε εδώ)"
   ]
  },
  {
   "cell_type": "markdown",
   "metadata": {},
   "source": [
    "**(ε')** Επιστρέφοντας στη θεωρία του φίλτρου Butterworth... θα χρειαστούμε τους πόλους που βρήκατε στο ερώτημα **(γ')**. Παρατηρήστε ότι\n",
    "\n",
    "$$|H(s)|^2 \\Big|_{s=0} = H(s)H(-s)\\Big|_{s=0} = 1$$\n",
    "\n",
    "και ότι\n",
    "\n",
    "$$|H(s)|^2 = H(s)H(-s) = \\frac{(j2\\pi f_c)^{2N}}{\\prod_{k=0}^{N-1}(s-s_k)\\prod_{l=0}^{N-1}(s-s_l)}$$,\n",
    "\n",
    "με τον παρονομαστή να αφορά τους πόλους του $H(s)$ και του $H(-s)$, αντίστοιχα.\n",
    "\n",
    "Υπολογίστε το $H(s)$ για $N=1$ και $N=2$, βρίσκοντας το $|H(s)|^2$ από την παραπάνω σχέση και διαχωρίζοντας τα $H(s)$, $H(-s)$ με βάση την απαίτηση το $H(s)$ να είναι $\\textbf{ευσταθές και αιτιατό}$.\n",
    "\n",
    "$\\underline{Βοήθεια:}$\n",
    "Πρέπει να βρείτε: $$\\displaystyle H_{N=1}(s) = \\frac{2\\pi f_c}{s + 2\\pi f_c} , \\: \\: H_{N=2}(s) = \\frac{(2\\pi f_c)^2}{(s-2\\pi f_c e^{j3\\pi/4})(s-2\\pi f_c e^{j5\\pi/4})}$$"
   ]
  },
  {
   "cell_type": "markdown",
   "metadata": {},
   "source": [
    "**(στ)** Εν τέλει, πώς θα υλοποιούσαμε το φίλτρο Butterworth στην πραγματικότητα? Ένας τρόπος είναι μέσω μιας διαφορικής εξίσωσης που μοντελοποιεί ένα ηλεκτρικό κύκλωμα! \n",
    "\n",
    "Βρείτε τη διαφορική εξίσωση $\\textit{δευτέρας τάξης}$ (δηλ. για $N=2$) που αντιστοιχεί στο φίλτρο Butterworth που βρήκατε παραπάνω, χρησιμοποιώντας συχνότητα αποκοπής $f_c = \\frac{1}{2\\pi}$ Hz, και γράψτε τους συντελεστές της παρακάτω:\n",
    "\n",
    "### Απάντηση:\n",
    "1. Συντελεστής $y(t) = ? $\n",
    "2. Συντελεστής $y'(t) = ? $\n",
    "3. Συντελεστής $y''(t) = ?$\n",
    "4. Συντελεστής $x(t) = ?$"
   ]
  },
  {
   "cell_type": "markdown",
   "metadata": {},
   "source": [
    "**(ζ)** Υλοποιήστε στην $\\texttt{Python}$ την απόκριση πλάτους $|H(f)|$ του φίλτρου σας για $f_c = 2000$ Hz, δειγματοληπτώντας έναν άξονα συχνοτήτων $f$ στο διάστημα $[-5000, 5000]$ ανά $Df = 0.1$ Hz, για \n",
    "- $N=6$, \n",
    "- $N=16$,\n",
    "- $N=46$. \n",
    "\n",
    "Ακολουθήστε τον παρακάτω κώδικα:"
   ]
  },
  {
   "cell_type": "code",
   "execution_count": null,
   "metadata": {},
   "outputs": [],
   "source": [
    "f = np.arange(start=-5000, stop=5000, step=0.1)           # Άξονας συχνοτήτων\n",
    "fc = 2000                                                 # Συχνότητα αποκοπής\n",
    "\n",
    "N = 6\n",
    "H1 = # INSERT CODE HERE - υλοποιήστε το φίλτρο |H(f)| για N=6\n",
    "N = 16\n",
    "H2 = # INSERT CODE HERE - υλοποιήστε το φίλτρο |H(f)| για N=16\n",
    "N = 46\n",
    "H3 = # INSERT CODE HERE - υλοποιήστε το φίλτρο |H(f)| για N=46\n",
    "\n",
    "plt.figure(figsize=(10,6))    # Γράφημα\n",
    "\n",
    "plt.plot(f, np.abs(H1))       # Το πρώτο φίλτρο (βάζουμε np.abs γιατί προκύπτουν πολύ πολύ μικρά φανταστικά μέρη)\n",
    "plt.plot(f, np.abs(H2))       # Το δεύτερο\n",
    "plt.plot(f, np.abs(H3))       # και το τρίτο\n",
    "\n",
    "plt.title('Απόκριση πλάτους')            # Ομορφαίνουμε\n",
    "plt.xlabel('Συχνότητα (Hz)')             # Ομορφαίνουμε\n",
    "plt.grid(True)                           # Ομορφαίνουμε\n",
    "plt.legend(['N=6', 'N=16', 'N=46'])      # Ομορφαίνουμε\n",
    "plt.tight_layout()\n",
    "plt.show()"
   ]
  },
  {
   "cell_type": "markdown",
   "metadata": {},
   "source": [
    "Τι παρατηρείτε στο φίλτρο σας όσο αυξάνεται η τάξη του, $N$? \n",
    "\n",
    "**Γράψτε παρακάτω την απάντησή σας:**"
   ]
  },
  {
   "cell_type": "markdown",
   "metadata": {},
   "source": [
    "### Απάντηση:\n",
    "\n",
    "(γράψτε εδώ)"
   ]
  },
  {
   "cell_type": "markdown",
   "metadata": {},
   "source": [
    "# Άσκηση Python 2:\n",
    "---\n",
    "---\n",
    "Προτού παραδώσετε το φίλτρο σας στον προϊστάμενό σας ώστε να υλοποιηθεί σε κύκλωμα, θέλετε να βεβαιωθείτε ότι λειτουργεί όπως πρέπει, εξομοιώνοντάς το στην Python και βάζοντας ως είσοδο μια τυπική στρατιωτική διαταγή, δωρεά του Υπουργείου Άμυνας. Θα τη βρείτε στο αρχείο $\\textrm{military.wav}$, στο site του μαθήματος. \n",
    "\n",
    "Ακολουθήστε τα παρακάτω βήματα."
   ]
  },
  {
   "cell_type": "markdown",
   "metadata": {},
   "source": [
    "**(α')** Φορτώστε το αρχείο στην Python με τη - γνωστή πια - συνάρτηση $\\texttt{wav.read}$ της $\\texttt{SciPy}$ και δείτε το. "
   ]
  },
  {
   "cell_type": "code",
   "execution_count": null,
   "metadata": {},
   "outputs": [],
   "source": [
    "fs, s = wav.read('./military.wav')                   # Ανάγνωση\n",
    "s = s/np.abs(np.max(s))                              # Κανονικοποίηση στο [-1, 1]\n",
    "t = np.arange(0, len(s)/fs, 1/fs)                    # Άξονας χρόνου\n",
    "\n",
    "plt.figure(figsize=(15,6))                           # Γράφημα\n",
    "plt.plot(t, s)                                       # Περιεχόμενο \n",
    "plt.xlabel('Χρόνος (s)')                             # Ομορφαίνουμε\n",
    "plt.ylabel('Πλάτος')                                 # Ομορφαίνουμε\n",
    "plt.grid()                                           # Ομορφαίνουμε\n",
    "plt.title('Σήμα στο χρόνο')                          # Ομορφαίνουμε"
   ]
  },
  {
   "cell_type": "markdown",
   "metadata": {},
   "source": [
    "Ας το ακούσουμε:"
   ]
  },
  {
   "cell_type": "code",
   "execution_count": null,
   "metadata": {},
   "outputs": [],
   "source": [
    "IPython.display.Audio(s, rate=fs)"
   ]
  },
  {
   "cell_type": "markdown",
   "metadata": {},
   "source": [
    "**(β')** Η έτοιμη συνάρτηση $\\texttt{butter}$ υλοποιεί διάφορα φίλτρα Butterworth με τάξη $N$ την οποία παρέχετε εσείς ως όρισμα, όπως και τη συχνότητα αποκοπής $f_c$, και επιστρέφει τους συντελεστές του αριθμητή και του παρονομαστή για το φίλτρο σας στο χώρο του Laplace (ή και του Fourier)! "
   ]
  },
  {
   "cell_type": "code",
   "execution_count": 68,
   "metadata": {},
   "outputs": [],
   "source": [
    "fc = 2000           # Συχνότητα αποκοπής\n",
    "N = 30              # Ας επιλέξουμε τάξη ίση με 30 - ένα \"αυστηρό\" φίλτρο Butterworth με απότομη μετάβαση\n",
    "b, a = butter(N=N, btype='low', Wn=fc, analog=False, output='ba', fs = fs)   # Δημιουργία φίλτρου"
   ]
  },
  {
   "cell_type": "markdown",
   "metadata": {},
   "source": [
    "Παρατηρήστε ότι ζητήσαμε από τη συνάρτηση $\\texttt{butter}$ να μας φτιάξει ένα lowpass (χαμηλοπερατό) φίλτρο, τάξης $N$, με συχνότητα απόκοπής $W_n = f_c$, το φίλτρο μας να είναι $\\textbf{ψηφιακό}$ κατευθείαν - θέτοντας $\\texttt{analog=False}$ - και να μας δώσει ως έξοδο τους συντελεστές $a,b$ του φίλτρου μας! Το διάνυσμα των συντελεστών του αριθμητή θα είναι το $b$ ενώ του παρονομαστή θα είναι το $a$."
   ]
  },
  {
   "cell_type": "markdown",
   "metadata": {},
   "source": [
    "**(γ')** Δείτε την απόκριση συχνότητας $H(f)$ (μόνο για $f > 0$) του (ψηφιακού πλέον) φίλτρου σας με χρήση των εντολών:"
   ]
  },
  {
   "cell_type": "code",
   "execution_count": null,
   "metadata": {},
   "outputs": [],
   "source": [
    "f, H = freqz(b=b, a=a, fs=fs)          # Καλούμε τη συνάρτηση freqz για να μας βρει την απόκριση σε συχνότητα H(f)\n",
    "\n",
    "plt.figure(figsize=(12,8))             # Γράφημα\n",
    "\n",
    "plt.subplot(2, 1, 1)                   # 2 γραμμές, 1 στήλη στο γράφημα: 1η γραμμή\n",
    "plt.plot(f, np.abs(H))                 # Εμφάνιση απόκρισης πλάτους\n",
    "plt.title('Απόκριση πλάτους')          # Ομορφαίνουμε      \n",
    "plt.xlabel('Συχνότητα (Hz)')           # Ομορφαίνουμε\n",
    "plt.grid(True)                         # Ομορφαίνουμε\n",
    "\n",
    "plt.subplot(2, 1, 2)                   # 2 γραμμές, 1 στήλη στο γράφημα: 2η γραμμή\n",
    "plt.plot(f, np.angle(H))               # Εμφάνιση απόκρισης φάσης\n",
    "plt.title('Απόκριση Φάσης')            # Ομορφαίνουμε\n",
    "plt.xlabel('Συχνότητα (Hz)')           # Ομορφαίνουμε\n",
    "plt.grid(True)                         # Ομορφαίνουμε\n",
    "\n",
    "plt.tight_layout()"
   ]
  },
  {
   "cell_type": "markdown",
   "metadata": {},
   "source": [
    "(εʹ) Ας χρησιμοποιήσουμε τη συνάρτηση $\\texttt{lfilter}$ της $\\texttt{SciPy}$"
   ]
  },
  {
   "cell_type": "code",
   "execution_count": 70,
   "metadata": {},
   "outputs": [],
   "source": [
    "y = lfilter(b=b, a=a, x=s)       # Φιλτράρισμα (ουσιαστικά, συνέλιξη στο χρόνο του φίλτρου με το σήμα εισόδου)\n",
    "y = y/np.abs(np.max(y))          # Κανονικοποίηση (δεν είναι κι απαραίτητο :) )"
   ]
  },
  {
   "cell_type": "markdown",
   "metadata": {},
   "source": [
    "για να φιλτράρουμε το σήμα μέσα από το σύστημα που φτιάξαμε! Ας το ακούσουμε!"
   ]
  },
  {
   "cell_type": "code",
   "execution_count": null,
   "metadata": {},
   "outputs": [],
   "source": [
    "IPython.display.Audio(y, rate=fs) "
   ]
  },
  {
   "cell_type": "markdown",
   "metadata": {},
   "source": [
    "Συγκρίνετε με το αρχικό:"
   ]
  },
  {
   "cell_type": "code",
   "execution_count": null,
   "metadata": {},
   "outputs": [],
   "source": [
    "IPython.display.Audio(s, rate=fs)"
   ]
  },
  {
   "cell_type": "markdown",
   "metadata": {},
   "source": [
    "Το ίδιο και οπτικά!"
   ]
  },
  {
   "cell_type": "code",
   "execution_count": null,
   "metadata": {},
   "outputs": [],
   "source": [
    "plt.figure(figsize=(13,10))                      # Γράφημα\n",
    "\n",
    "plt.subplot(2, 1, 1)                            # 2 γραμμές, 1 στήλη στο γράφημα: 1η γραμμή\n",
    "plt.plot(t, s)                                  # Περιεχόμενο \n",
    "plt.grid()\n",
    "plt.title('Αρχικό σήμα $s(t)$')                 # Ομορφαίνουμε\n",
    "plt.xlabel('Χρόνος (s)')                        # Ομορφαίνουμε\n",
    "plt.ylabel('Πλάτος')                            # Ομορφαίνουμε\n",
    "\n",
    "plt.subplot(2, 1, 2)                            # 2 γραμμές, 1 στήλη στο γράφημα: 2η γραμμή\n",
    "plt.plot(t, y)                                  # Περιεχόμενο \n",
    "plt.grid()\n",
    "plt.title('Τελικό σήμα $y(t)$')                 # Ομορφαίνουμε\n",
    "plt.xlabel('Χρόνος (s)')                        # Ομορφαίνουμε\n",
    "plt.ylabel('Πλάτος')                            # Ομορφαίνουμε\n",
    "\n",
    "plt.tight_layout()\n",
    "plt.show()\n",
    "plt.close()"
   ]
  },
  {
   "cell_type": "markdown",
   "metadata": {},
   "source": [
    "Από τα σήματα στο χρόνο, ίσως να δυσκολεύεστε να καταλάβετε τη διαφορά (θα πρέπει να κάνουμε zoom σε κάποια μέρη για να δούμε περισσότερη λεπτομέρεια). \n",
    "\n",
    "Ας δούμε τα δυο σήματα στη συχνότητα, εκτελώντας το Μετασχηματισμό Fourier για καθένα σήμα. Επειδή όμως τα σήματα ομιλίας, μουσικής, και γενικότερα τα πραγματικά ηχητικά σήματα, αλλάζουν πολύ γρήγορα όσο περνάει ο χρόνος, προτιμάμε να εκτελούμε το μετασχ. Fourier σε **τμήματα** (segments ή frames) σήματος, όπως το έχετε ήδη δει σε προηγούμενες ασκήσεις. \n",
    "\n",
    "Αντί όμως να τυπώσουμε ένα σωρό μετασχ. Fourier (καθώς τα σήματά μας περιέχουν πάρα πολλά τμήματα), καλύτερα να:\n",
    "1. Χωρίσουμε το σήμα στα προαναφερθέντα τμήματα\n",
    "2. Εκτελέσουμε το μετασχ. Fourier στο καθένα\n",
    "3. Υπολογίσουμε το μέτρο του (δηλ. το φάσμα πλάτους)\n",
    "4. Μαζέψουμε το αποτέλεσμα σε μια μεγάλη δομή (διδιάστατο πίνακα, π.χ.)\n",
    "5. Τυπώσουμε όλα μαζί τα μέτρα των μετασχ. Fourier ως μια εικόνα, με άξονες $f$ και $t$, και το χρώμα κάθε pixel στις συντεταγμένες $(t_0, f_0)$ θα μας υποδηλώνει πόσο \"δυνατό\" είναι το μέτρο του μετασχηματισμού σε εκείνο το σημείο.\n",
    "\n",
    "Το τελικό αποτέλεσμα ονομάζεται **φασματογράφημα (spectrogram)**. \n",
    "\n",
    "**ΕΥΤΥΧΩΣ** όλα αυτά τα κάνει η συνάρτηση $\\texttt{specgram}$ της βιβλιοθήκης απεικονίσεων $\\texttt{matplotlib}$, και σας δίνουμε όλο το σχετικό κώδικα έτοιμο. "
   ]
  },
  {
   "cell_type": "code",
   "execution_count": null,
   "metadata": {},
   "outputs": [],
   "source": [
    "plt.figure(figsize=(16,12))\n",
    "\n",
    "plt.subplot(2, 2, 1)\n",
    "plt.title('Αρχικό σήμα')\n",
    "plt.plot(t, s)\n",
    "plt.grid()\n",
    "plt.xlabel('Χρόνος (s)')\n",
    "plt.ylabel('Πλάτος')\n",
    "\n",
    "plt.subplot(2, 2, 2)\n",
    "plt.specgram(s, Fs=fs)\n",
    "plt.title('Φασματογράφημα αρχικού σήματος')\n",
    "plt.xlabel('Χρόνος (s)')\n",
    "plt.ylabel('Συχνότητα (Hz)')\n",
    "\n",
    "plt.subplot(2, 2, 3)\n",
    "plt.title('Φιλτραρισμένο σήμα')\n",
    "plt.plot(t, y)\n",
    "plt.grid()\n",
    "plt.xlabel('Χρόνος (s)')\n",
    "plt.ylabel('Πλάτος')\n",
    "\n",
    "plt.subplot(2, 2, 4)\n",
    "plt.specgram(y, Fs=fs)\n",
    "plt.title('Φασματογράφημα φιλτραρισμένου σήματος')\n",
    "plt.xlabel('Χρόνος (s)')\n",
    "plt.ylabel('Συχνότητα (Hz)')\n",
    "plt.show()"
   ]
  },
  {
   "cell_type": "markdown",
   "metadata": {},
   "source": [
    "Τι κερδίσαμε με το παραπάνω φιλτράρισμα? Το σήμα μας πλέον έχει **εύρος ζώνης (bandwidth)** περίπου ίσο με $2000$ Hz! (αντί του αρχικού, που ήταν $8000$ Hz). Άρα για να το μεταδώσουμε μέσα από ένα κανάλι χρειαζόμαστε το $1/4$ του αρχικού εύρους ζώνης. Αυτό σημαίνει ότι πληρώνουμε μικρότερο εύρος συχνοτήτων, άρα εξοικονομούμε χρήματα, χωρίς να αλλάζει το μήνυμα που φέρει το σήμα (πιστεύω ότι καταλαβαίνετε τις λέξεις στα σήματα και στις δυο περιπτώσεις)."
   ]
  },
  {
   "cell_type": "markdown",
   "metadata": {},
   "source": [
    "Με βάση τόσο το ακουστικό αποτέλεσμα, όσο και τα παραπάνω σχήματα, **πώς θα χαρακτηρίζατε την ποιότητα του σήματος εξόδου σε σχέση με το αρχικό**; Σκεφτείε πως επέδρασε το φίλτρο επάνω στις συχνότητες του σήματος εισόδου.\n",
    "\n",
    "**Απαντήστε παρακάτω:**"
   ]
  },
  {
   "cell_type": "markdown",
   "metadata": {},
   "source": [
    "### Απάντηση:\n",
    "\n",
    "(γράψτε εδώ)"
   ]
  },
  {
   "cell_type": "code",
   "execution_count": null,
   "metadata": {},
   "outputs": [],
   "source": []
  }
 ],
 "metadata": {
  "kernelspec": {
   "display_name": "Python 3",
   "language": "python",
   "name": "python3"
  },
  "language_info": {
   "codemirror_mode": {
    "name": "ipython",
    "version": 3
   },
   "file_extension": ".py",
   "mimetype": "text/x-python",
   "name": "python",
   "nbconvert_exporter": "python",
   "pygments_lexer": "ipython3",
   "version": "3.6.5"
  }
 },
 "nbformat": 4,
 "nbformat_minor": 1
}
